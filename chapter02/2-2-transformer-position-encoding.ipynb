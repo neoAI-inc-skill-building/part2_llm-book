{
  "nbformat": 4,
  "nbformat_minor": 0,
  "metadata": {
    "colab": {
      "provenance": [],
      "gpuType": "T4"
    },
    "kernelspec": {
      "name": "python3",
      "display_name": "Python 3"
    },
    "language_info": {
      "name": "python"
    },
    "accelerator": "GPU"
  },
  "cells": [
    {
      "cell_type": "markdown",
      "source": [
        "# 第2章 Transformer"
      ],
      "metadata": {
        "id": "OuKI8CEjS-2f"
      }
    },
    {
      "cell_type": "markdown",
      "source": [
        "## 2.2 エンコーダ"
      ],
      "metadata": {
        "id": "AsDozowiUQkg"
      }
    },
    {
      "cell_type": "markdown",
      "source": [
        "### 2.2.2 位置符号"
      ],
      "metadata": {
        "id": "HrwkJQ5pUR7P"
      }
    },
    {
      "cell_type": "code",
      "source": [
        "!pip install numpy matplotlib japanize-matplotlib"
      ],
      "metadata": {
        "id": "wc-XbjbARebU"
      },
      "execution_count": null,
      "outputs": []
    },
    {
      "cell_type": "code",
      "execution_count": null,
      "metadata": {
        "id": "I-taSBIVB9YK"
      },
      "outputs": [],
      "source": [
        "import japanize_matplotlib\n",
        "import matplotlib.pyplot as plt\n",
        "import numpy as np\n",
        "\n",
        "K = 50  # 単語列の最大長\n",
        "D = 64  # 埋め込みの次元\n",
        "\n",
        "# 位置符号行列を初期化\n",
        "pos_enc = np.empty((K, D))\n",
        "\n",
        "for i in range(K):  # 単語位置iでループ\n",
        "    for k in range(D // 2):  # kの値でループ\n",
        "        theta = i / (10000 ** (2 * k / D))\n",
        "        pos_enc[i, 2 * k] = np.sin(theta)\n",
        "        pos_enc[i, 2 * k + 1] = np.cos(theta)"
      ]
    },
    {
      "cell_type": "code",
      "source": [
        "# 行列を画像で表示\n",
        "im = plt.imshow(pos_enc)\n",
        "plt.xlabel(\"次元\")  # X軸のラベルを設定\n",
        "plt.ylabel(\"位置\")  # Y軸のラベルを設定\n",
        "plt.colorbar(im)  # 値と色の対応を示すバーを付加\n",
        "plt.show()"
      ],
      "metadata": {
        "id": "Y3RXlPerCE-q"
      },
      "execution_count": null,
      "outputs": []
    },
    {
      "cell_type": "code",
      "source": [
        "# 位置符号同士の内積を計算\n",
        "dot_matrix = np.matmul(pos_enc, pos_enc.T)\n",
        "# 行列を画像で表示\n",
        "im = plt.imshow(dot_matrix, origin=\"lower\")\n",
        "plt.xlabel(\"位置\")\n",
        "plt.ylabel(\"位置\")\n",
        "plt.colorbar(im)\n",
        "plt.show()"
      ],
      "metadata": {
        "id": "S37dZ4muCHfs"
      },
      "execution_count": null,
      "outputs": []
    }
  ]
}